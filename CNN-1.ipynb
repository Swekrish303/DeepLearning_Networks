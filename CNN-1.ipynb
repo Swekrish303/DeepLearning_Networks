{
 "cells": [
  {
   "cell_type": "markdown",
   "metadata": {
    "id": "3DR-eO17geWu"
   },
   "source": [
    "# Convolutional Neural Network"
   ]
  },
  {
   "cell_type": "markdown",
   "metadata": {
    "id": "EMefrVPCg-60"
   },
   "source": [
    "### Importing the libraries"
   ]
  },
  {
   "cell_type": "code",
   "execution_count": 1,
   "metadata": {
    "id": "1JexNbAcMOS6"
   },
   "outputs": [],
   "source": [
    "import tensorflow as tf\n",
    "from keras.preprocessing.image import ImageDataGenerator #for pre-processing images"
   ]
  },
  {
   "cell_type": "code",
   "execution_count": 2,
   "metadata": {
    "colab": {
     "base_uri": "https://localhost:8080/",
     "height": 36
    },
    "id": "ayARfW9_Mfbd",
    "outputId": "e170b7d9-f754-4917-c4d6-c9145dd7396f"
   },
   "outputs": [
    {
     "data": {
      "text/plain": [
       "'2.9.1'"
      ]
     },
     "execution_count": 2,
     "metadata": {},
     "output_type": "execute_result"
    }
   ],
   "source": [
    "tf.__version__"
   ]
  },
  {
   "cell_type": "markdown",
   "metadata": {
    "id": "oxQxCBWyoGPE"
   },
   "source": [
    "## Part 1 - Data Preprocessing"
   ]
  },
  {
   "cell_type": "markdown",
   "metadata": {
    "id": "MvE-heJNo3GG"
   },
   "source": [
    "### Preprocessing the Training set"
   ]
  },
  {
   "cell_type": "code",
   "execution_count": 3,
   "metadata": {
    "id": "M6UkNoD0M8Eq"
   },
   "outputs": [
    {
     "name": "stdout",
     "output_type": "stream",
     "text": [
      "Found 8000 images belonging to 2 classes.\n"
     ]
    }
   ],
   "source": [
    "#apply transformations on images of training set to avoid overfitting (data augmentation)\n",
    "#simple geometrical transforms, zooms, rotations are used\n",
    "#tool from keras API used\n",
    "train_datagen = ImageDataGenerator(rescale = 1./255,\n",
    "                                   shear_range = 0.2,\n",
    "                                   zoom_range = 0.2,\n",
    "                                   horizontal_flip = True)\n",
    "#creates an instance of the ImageDataGenerator class\n",
    "#rescale is feature scaling - normalize values to 0-1 range\n",
    "#we use shearing, zoom, horizontal flip as augmentations\n",
    "training_set = train_datagen.flow_from_directory('dataset/training_set',  #path to training set from root directory\n",
    "                                                 target_size = (64, 64),  #final size of images fed into CNN\n",
    "                                                 batch_size = 32,         #number of images per batch\n",
    "                                                 class_mode = 'binary')   #can be binary or categorical, here we need binary outcome\n",
    "#we resize images for faster performance without compromising accuracy\n",
    "#flow_from_directory method connects image augmentation tool to training set images\n"
   ]
  },
  {
   "cell_type": "markdown",
   "metadata": {
    "id": "mrCMmGw9pHys"
   },
   "source": [
    "### Preprocessing the Test set"
   ]
  },
  {
   "cell_type": "code",
   "execution_count": 4,
   "metadata": {
    "id": "7BxM-VYMShri"
   },
   "outputs": [
    {
     "name": "stdout",
     "output_type": "stream",
     "text": [
      "Found 2000 images belonging to 2 classes.\n"
     ]
    }
   ],
   "source": [
    "test_datagen = ImageDataGenerator(rescale = 1./255)\n",
    "#NO data augmentation is done to test set - kept intact - NO information leakage\n",
    "#feature scaling is used here\n",
    "test_set = test_datagen.flow_from_directory('dataset/test_set',\n",
    "                                            target_size = (64, 64),\n",
    "                                            batch_size = 32,\n",
    "                                            class_mode = 'binary')\n",
    "#import test set images here\n",
    "#need to be in the same format as the training set"
   ]
  },
  {
   "cell_type": "markdown",
   "metadata": {
    "id": "af8O4l90gk7B"
   },
   "source": [
    "## Part 2 - Building the CNN"
   ]
  },
  {
   "cell_type": "markdown",
   "metadata": {
    "id": "ces1gXY2lmoX"
   },
   "source": [
    "### Initialising the CNN"
   ]
  },
  {
   "cell_type": "code",
   "execution_count": 5,
   "metadata": {
    "id": "1z7VSXA-UCkX"
   },
   "outputs": [],
   "source": [
    "cnn = tf.keras.models.Sequential()\n",
    "#initialize the CNN as a sequence of layers"
   ]
  },
  {
   "cell_type": "markdown",
   "metadata": {
    "id": "u5YJj_XMl5LF"
   },
   "source": [
    "### Step 1 - Convolution"
   ]
  },
  {
   "cell_type": "code",
   "execution_count": 6,
   "metadata": {
    "id": "5ajvzT4cUXnm"
   },
   "outputs": [],
   "source": [
    "cnn.add(tf.keras.layers.Conv2D(filters=32,kernel_size=3, activation='relu', input_shape=[64, 64, 3]))\n",
    "#adding a convolutional layer via the Conv2D class - 3 parameters (number of filters, kernel size which is the same as the size of the feature detector, activation function - ReLU used, input shape - eg: colored images with 64*64 will have 64*64*3 )"
   ]
  },
  {
   "cell_type": "markdown",
   "metadata": {
    "id": "tf87FpvxmNOJ"
   },
   "source": [
    "### Step 2 - Pooling"
   ]
  },
  {
   "cell_type": "code",
   "execution_count": 7,
   "metadata": {
    "id": "9E5a0bB9aQXJ"
   },
   "outputs": [],
   "source": [
    "cnn.add(tf.keras.layers.MaxPool2D(pool_size=2, strides=2))\n",
    "#adding a pooling layer - parameters: pool size(size of pooling matrix, recommended=2), stride value(recommended=2), padding(valid(default):ignore excess cells outside matrix, extra:add fake pixels with 0 value)"
   ]
  },
  {
   "cell_type": "markdown",
   "metadata": {
    "id": "xaTOgD8rm4mU"
   },
   "source": [
    "### Adding a second convolutional layer"
   ]
  },
  {
   "cell_type": "code",
   "execution_count": 8,
   "metadata": {
    "id": "VynQbqTFboTW"
   },
   "outputs": [],
   "source": [
    "cnn.add(tf.keras.layers.Conv2D(filters=32,kernel_size=3, activation='relu'))\n",
    "#input shape only used for the first convolutional layer"
   ]
  },
  {
   "cell_type": "code",
   "execution_count": 9,
   "metadata": {
    "id": "rejsHyGzbpFV"
   },
   "outputs": [],
   "source": [
    "cnn.add(tf.keras.layers.MaxPool2D(pool_size=2, strides=2))"
   ]
  },
  {
   "cell_type": "markdown",
   "metadata": {
    "id": "tmiEuvTunKfk"
   },
   "source": [
    "### Step 3 - Flattening"
   ]
  },
  {
   "cell_type": "code",
   "execution_count": 10,
   "metadata": {
    "id": "4FN37AVvb4xa"
   },
   "outputs": [],
   "source": [
    "cnn.add(tf.keras.layers.Flatten())"
   ]
  },
  {
   "cell_type": "markdown",
   "metadata": {
    "id": "dAoSECOm203v"
   },
   "source": [
    "### Step 4 - Full Connection"
   ]
  },
  {
   "cell_type": "code",
   "execution_count": 11,
   "metadata": {
    "id": "3KZ_RmitcBc8"
   },
   "outputs": [],
   "source": [
    "cnn.add(tf.keras.layers.Dense(units=128, activation='relu'))\n",
    "#same as ANN"
   ]
  },
  {
   "cell_type": "markdown",
   "metadata": {
    "id": "yTldFvbX28Na"
   },
   "source": [
    "### Step 5 - Output Layer"
   ]
  },
  {
   "cell_type": "code",
   "execution_count": 12,
   "metadata": {
    "id": "-EXdz2Sice0t"
   },
   "outputs": [],
   "source": [
    "cnn.add(tf.keras.layers.Dense(units=1, activation='sigmoid'))\n",
    "#1 neuron only for binary classification\n",
    "#signoid for binary classification and softmax for multi-class classification"
   ]
  },
  {
   "cell_type": "markdown",
   "metadata": {
    "id": "D6XkI90snSDl"
   },
   "source": [
    "## Part 3 - Training the CNN"
   ]
  },
  {
   "cell_type": "markdown",
   "metadata": {
    "id": "vfrFQACEnc6i"
   },
   "source": [
    "### Compiling the CNN"
   ]
  },
  {
   "cell_type": "code",
   "execution_count": 13,
   "metadata": {
    "id": "3pXMXJ3vQ4GK"
   },
   "outputs": [],
   "source": [
    "#we use stochastic gradient descent (adam optimizer)\n",
    "cnn.compile(optimizer='adam', loss='binary_crossentropy', metrics=['accuracy'])"
   ]
  },
  {
   "cell_type": "markdown",
   "metadata": {
    "id": "ehS-v3MIpX2h"
   },
   "source": [
    "### Training the CNN on the Training set and evaluating it on the Test set"
   ]
  },
  {
   "cell_type": "code",
   "execution_count": 14,
   "metadata": {
    "id": "9BDQAFpoRO7Q"
   },
   "outputs": [
    {
     "name": "stdout",
     "output_type": "stream",
     "text": [
      "Epoch 1/25\n",
      "250/250 [==============================] - 45s 179ms/step - loss: 0.6618 - accuracy: 0.5961 - val_loss: 0.6125 - val_accuracy: 0.6580\n",
      "Epoch 2/25\n",
      "250/250 [==============================] - 42s 167ms/step - loss: 0.5885 - accuracy: 0.6785 - val_loss: 0.5760 - val_accuracy: 0.7015\n",
      "Epoch 3/25\n",
      "250/250 [==============================] - 44s 174ms/step - loss: 0.5542 - accuracy: 0.7163 - val_loss: 0.5347 - val_accuracy: 0.7395\n",
      "Epoch 4/25\n",
      "250/250 [==============================] - 38s 152ms/step - loss: 0.5177 - accuracy: 0.7462 - val_loss: 0.5894 - val_accuracy: 0.7060\n",
      "Epoch 5/25\n",
      "250/250 [==============================] - 39s 157ms/step - loss: 0.5005 - accuracy: 0.7484 - val_loss: 0.4836 - val_accuracy: 0.7655\n",
      "Epoch 6/25\n",
      "250/250 [==============================] - 36s 146ms/step - loss: 0.4829 - accuracy: 0.7657 - val_loss: 0.5096 - val_accuracy: 0.7560\n",
      "Epoch 7/25\n",
      "250/250 [==============================] - 37s 146ms/step - loss: 0.4741 - accuracy: 0.7741 - val_loss: 0.4864 - val_accuracy: 0.7685\n",
      "Epoch 8/25\n",
      "250/250 [==============================] - 37s 150ms/step - loss: 0.4482 - accuracy: 0.7893 - val_loss: 0.5520 - val_accuracy: 0.7460\n",
      "Epoch 9/25\n",
      "250/250 [==============================] - 37s 149ms/step - loss: 0.4352 - accuracy: 0.7924 - val_loss: 0.5136 - val_accuracy: 0.7690\n",
      "Epoch 10/25\n",
      "250/250 [==============================] - 40s 158ms/step - loss: 0.4304 - accuracy: 0.7965 - val_loss: 0.4677 - val_accuracy: 0.7835\n",
      "Epoch 11/25\n",
      "250/250 [==============================] - 39s 156ms/step - loss: 0.4114 - accuracy: 0.8071 - val_loss: 0.4673 - val_accuracy: 0.7890\n",
      "Epoch 12/25\n",
      "250/250 [==============================] - 37s 149ms/step - loss: 0.3992 - accuracy: 0.8161 - val_loss: 0.4712 - val_accuracy: 0.7830\n",
      "Epoch 13/25\n",
      "250/250 [==============================] - 38s 153ms/step - loss: 0.3918 - accuracy: 0.8207 - val_loss: 0.4818 - val_accuracy: 0.7795\n",
      "Epoch 14/25\n",
      "250/250 [==============================] - 39s 155ms/step - loss: 0.3858 - accuracy: 0.8269 - val_loss: 0.4761 - val_accuracy: 0.7885\n",
      "Epoch 15/25\n",
      "250/250 [==============================] - 38s 153ms/step - loss: 0.3693 - accuracy: 0.8291 - val_loss: 0.4629 - val_accuracy: 0.8015\n",
      "Epoch 16/25\n",
      "250/250 [==============================] - 38s 150ms/step - loss: 0.3505 - accuracy: 0.8436 - val_loss: 0.6115 - val_accuracy: 0.7475\n",
      "Epoch 17/25\n",
      "250/250 [==============================] - 38s 152ms/step - loss: 0.3366 - accuracy: 0.8506 - val_loss: 0.4545 - val_accuracy: 0.8000\n",
      "Epoch 18/25\n",
      "250/250 [==============================] - 40s 159ms/step - loss: 0.3351 - accuracy: 0.8518 - val_loss: 0.5001 - val_accuracy: 0.7850\n",
      "Epoch 19/25\n",
      "250/250 [==============================] - 46s 183ms/step - loss: 0.3149 - accuracy: 0.8629 - val_loss: 0.4809 - val_accuracy: 0.7965\n",
      "Epoch 20/25\n",
      "250/250 [==============================] - 34s 136ms/step - loss: 0.2990 - accuracy: 0.8677 - val_loss: 0.5362 - val_accuracy: 0.7880\n",
      "Epoch 21/25\n",
      "250/250 [==============================] - 34s 135ms/step - loss: 0.2895 - accuracy: 0.8814 - val_loss: 0.4995 - val_accuracy: 0.7930\n",
      "Epoch 22/25\n",
      "250/250 [==============================] - 35s 140ms/step - loss: 0.2833 - accuracy: 0.8760 - val_loss: 0.5249 - val_accuracy: 0.7955\n",
      "Epoch 23/25\n",
      "250/250 [==============================] - 37s 148ms/step - loss: 0.2688 - accuracy: 0.8861 - val_loss: 0.5110 - val_accuracy: 0.7925\n",
      "Epoch 24/25\n",
      "250/250 [==============================] - 37s 148ms/step - loss: 0.2516 - accuracy: 0.8970 - val_loss: 0.5184 - val_accuracy: 0.8020\n",
      "Epoch 25/25\n",
      "250/250 [==============================] - 38s 151ms/step - loss: 0.2479 - accuracy: 0.8988 - val_loss: 0.5221 - val_accuracy: 0.7980\n"
     ]
    },
    {
     "data": {
      "text/plain": [
       "<keras.callbacks.History at 0x113c0cbff10>"
      ]
     },
     "execution_count": 14,
     "metadata": {},
     "output_type": "execute_result"
    }
   ],
   "source": [
    "#fit method for training\n",
    "#we use training_set,test_set that we made earlier in the code\n",
    "#25 epochs we find perfect converging of accuracy\n",
    "cnn.fit(x = training_set, validation_data = test_set, epochs = 25)"
   ]
  },
  {
   "cell_type": "markdown",
   "metadata": {
    "id": "U3PZasO0006Z"
   },
   "source": [
    "## Part 4 - Making a single prediction"
   ]
  },
  {
   "cell_type": "code",
   "execution_count": 33,
   "metadata": {
    "id": "p3W9E_FSR9C8"
   },
   "outputs": [
    {
     "name": "stdout",
     "output_type": "stream",
     "text": [
      "1/1 [==============================] - 0s 39ms/step\n"
     ]
    }
   ],
   "source": [
    "#final test, testing finetuned model with a single picture of each class\n",
    "#we use the load_img function (path)\n",
    "import numpy as np\n",
    "import tensorflow as tf\n",
    "from tensorflow.keras.utils import img_to_array\n",
    "from tensorflow.keras.utils import load_img\n",
    "test_image = load_img ('dataset/single_prediction/cat_or_dog_2.jpg', target_size= (64,64)) #with extension\n",
    "#need to resize image to same size as training images\n",
    "#predict method expects a 2D array as input, so we convert our image\n",
    "test_image = img_to_array(test_image) #gives a numpy array\n",
    "#we have a dimension : batch as well, axis = 0 means that the dimension that we are adding will be the first dimension, we set batch as the first dimension\n",
    "test_image = np.expand_dims(test_image, axis=0)\n",
    "result = cnn.predict(test_image/255.0) # divide by 255 for normalization\n",
    "#test_image is in the right format required\n",
    "#1:dog, 0:cat - to find this we use:\n",
    "training_set.class_indices\n",
    "if result[0][0] > 0.5:   #[0][0] : first image in the first dimension(batch)\n",
    "  prediction = 'dog'     #confidence level set : 0.5\n",
    "else:\n",
    "  prediction = 'cat'"
   ]
  },
  {
   "cell_type": "code",
   "execution_count": 34,
   "metadata": {
    "id": "MExLohmIVlhD"
   },
   "outputs": [
    {
     "name": "stdout",
     "output_type": "stream",
     "text": [
      "cat\n"
     ]
    }
   ],
   "source": [
    "print(prediction)"
   ]
  },
  {
   "cell_type": "code",
   "execution_count": null,
   "metadata": {},
   "outputs": [],
   "source": []
  }
 ],
 "metadata": {
  "colab": {
   "collapsed_sections": [],
   "name": "CNN_CV_Cats and Dogs.ipynb",
   "provenance": []
  },
  "kernelspec": {
   "display_name": "Python 3 (ipykernel)",
   "language": "python",
   "name": "python3"
  },
  "language_info": {
   "codemirror_mode": {
    "name": "ipython",
    "version": 3
   },
   "file_extension": ".py",
   "mimetype": "text/x-python",
   "name": "python",
   "nbconvert_exporter": "python",
   "pygments_lexer": "ipython3",
   "version": "3.10.5"
  }
 },
 "nbformat": 4,
 "nbformat_minor": 1
}
